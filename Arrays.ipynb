{
 "cells": [
  {
   "cell_type": "markdown",
   "id": "f6044894",
   "metadata": {},
   "source": [
    "## Problem Statement"
   ]
  },
  {
   "cell_type": "markdown",
   "id": "fb390c31",
   "metadata": {},
   "source": [
    "Given an array arr[] of positive integers, where each value represents the number of chocolates in a packet. Each packet can have a variable number of chocolates. There are m students, the task is to distribute chocolate packets among m students such that\n",
    "    i. Each student gets exactly one packet.\n",
    "    ii. The difference between maximum number of chocolates given to a student and minimum number of chocolates given to a student is minimum and return that minimum possible difference.\n",
    "\n",
    "```Examples:```\n",
    "Input: arr = [3, 4, 1, 9, 56, 7, 9, 12], m = 5 <br>\n",
    "Output: 6 <br>\n",
    "Explanation: The minimum difference between maximum chocolates and minimum chocolates is 9 - 3 = 6 by choosing following m packets :[3, 4, 9, 7, 9]. <br>\n",
    "\n",
    "Input: arr = [7, 3, 2, 4, 9, 12, 56], m = 3 <br>\n",
    "Output: 2 <br>\n",
    "Explanation: The minimum difference between maximum chocolates and minimum chocolates is 4 - 2 = 2 by choosing following m packets :[3, 2, 4]. <br>\n",
    "\n",
    "Input: arr = [3, 4, 1, 9, 56], m = 5 <br>\n",
    "Output: 55 <br>\n",
    "Explanation: With 5 packets for 5 students, each student will receive one packet, so the difference is 56 - 1 = 55. <br>\n",
    "\n",
    "```Constraints:```\n",
    "    1 ≤ m <= arr.size ≤ 105 <br>\n",
    "    1 ≤ arr[i] ≤ 109"
   ]
  },
  {
   "cell_type": "markdown",
   "id": "6383e196",
   "metadata": {},
   "source": [
    "## Approach"
   ]
  },
  {
   "cell_type": "markdown",
   "id": "a0f940f8",
   "metadata": {},
   "source": [
    "Greedy algorithm, Using Sliding Window"
   ]
  },
  {
   "cell_type": "markdown",
   "id": "7454e6a9",
   "metadata": {},
   "source": [
    "## Code"
   ]
  },
  {
   "cell_type": "code",
   "execution_count": null,
   "id": "e0f10dae",
   "metadata": {},
   "outputs": [],
   "source": [
    "# arr[0..n-1] represents sizes of packets\n",
    "# m is number of students.\n",
    "# Returns minimum difference between maximum and minimum values of distribution.\n",
    "def findMinDiff(arr, n, m):\n",
    "\n",
    "    # if there are no chocolates or number of students is 0\n",
    "    if (m==0 or n==0):\n",
    "        return 0\n",
    "\n",
    "    # Sort the given packets\n",
    "    arr.sort()\n",
    "\n",
    "    # Number of students cannot be more than number of packets\n",
    "    if (n < m):\n",
    "        return -1\n",
    "\n",
    "    # Largest number of chocolates\n",
    "    min_diff = arr[n-1] - arr[0]\n",
    "\n",
    "    # Find the subarray of size m such that\n",
    "    # difference between last (maximum in case of sorted) and first (minimum in case of sorted) elements of subarray is minimum.\n",
    "    for i in range(len(arr) - m + 1):\n",
    "        min_diff = min(min_diff ,  \n",
    "                       arr[i + m - 1] - arr[i])    \n",
    "        \n",
    "    return min_diff"
   ]
  },
  {
   "cell_type": "code",
   "execution_count": null,
   "id": "f5ec750c",
   "metadata": {},
   "outputs": [
    {
     "name": "stdout",
     "output_type": "stream",
     "text": [
      "Minimum difference is 6\n"
     ]
    }
   ],
   "source": [
    "\n",
    "arr = [3, 4, 1, 9, 56, 7, 9, 12]\n",
    "# Number of students\n",
    "m = 5 \n",
    "n = len(arr)\n",
    "print(\"Minimum difference is\", \n",
    "       findMinDiff(arr, n, m))"
   ]
  },
  {
   "cell_type": "code",
   "execution_count": 12,
   "id": "0c65f4e4",
   "metadata": {},
   "outputs": [
    {
     "name": "stdout",
     "output_type": "stream",
     "text": [
      "Minimum difference is 2\n"
     ]
    }
   ],
   "source": [
    "\n",
    "arr = [7, 3, 2, 4, 9, 12, 56]\n",
    "# Number of students\n",
    "m = 3 \n",
    "n = len(arr)\n",
    "print(\"Minimum difference is\", \n",
    "       findMinDiff(arr, n, m))"
   ]
  },
  {
   "cell_type": "code",
   "execution_count": 9,
   "id": "5d73947c",
   "metadata": {},
   "outputs": [
    {
     "name": "stdout",
     "output_type": "stream",
     "text": [
      "Minimum difference is 55\n"
     ]
    }
   ],
   "source": [
    "arr = [3, 4, 1, 9, 56]\n",
    "# Number of students\n",
    "m = 5\n",
    "n = len(arr)\n",
    "print(\"Minimum difference is\", \n",
    "       findMinDiff(arr, n, m))"
   ]
  },
  {
   "cell_type": "markdown",
   "id": "8df83750",
   "metadata": {},
   "source": [
    "## Complexity study"
   ]
  },
  {
   "cell_type": "markdown",
   "id": "43125969",
   "metadata": {},
   "source": [
    "Time Complexity: O(n Log n) as we apply sorting before subarray search.\n",
    "<br>\n",
    "Auxiliary Space: O(1)"
   ]
  }
 ],
 "metadata": {
  "kernelspec": {
   "display_name": "base",
   "language": "python",
   "name": "python3"
  },
  "language_info": {
   "codemirror_mode": {
    "name": "ipython",
    "version": 3
   },
   "file_extension": ".py",
   "mimetype": "text/x-python",
   "name": "python",
   "nbconvert_exporter": "python",
   "pygments_lexer": "ipython3",
   "version": "3.12.7"
  }
 },
 "nbformat": 4,
 "nbformat_minor": 5
}
