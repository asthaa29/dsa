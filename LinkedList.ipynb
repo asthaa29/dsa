{
 "cells": [
  {
   "cell_type": "markdown",
   "id": "6766088b",
   "metadata": {},
   "source": [
    "## Problem Statement"
   ]
  },
  {
   "cell_type": "markdown",
   "id": "e8cbe942",
   "metadata": {},
   "source": [
    "Given an unsorted linked list containing n nodes, the task is to remove duplicate nodes while preserving the original order.\n",
    "\n",
    "Examples:\n",
    "\n",
    "Input: 12 -> 11 -> 12 -> 21 -> 41 -> 43 -> 21 \n",
    "Output: 12 -> 11 -> 21 -> 41 -> 43 \n",
    "Explanation: The second occurrence of 12 (the one after 11) and the second occurrence of 21 (the one at the end) are removed, resulting in a linked list that maintains the order of their first appearances.\n",
    "\n",
    "Input: 1 -> 2 -> 3 -> 2 -> 4\n",
    "Output: 1 -> 2 -> 3 -> 4\n",
    "Explanation: Similarly, the second occurrence of 2 is removed, ensuring that each number appears only once while maintaining the order of their first appearances.\u000b\n"
   ]
  },
  {
   "cell_type": "markdown",
   "id": "920c3098",
   "metadata": {},
   "source": [
    "## Approach"
   ]
  },
  {
   "cell_type": "markdown",
   "id": "5420a4b2",
   "metadata": {},
   "source": [
    "Approach 1: Naive Approach: Using Nested Loops"
   ]
  },
  {
   "cell_type": "markdown",
   "id": "9868f799",
   "metadata": {},
   "source": [
    "Approach 2: Using HashSet "
   ]
  },
  {
   "cell_type": "markdown",
   "id": "82c6d72f",
   "metadata": {},
   "source": [
    "## Code"
   ]
  },
  {
   "cell_type": "code",
   "execution_count": 7,
   "id": "b57c2a93",
   "metadata": {},
   "outputs": [],
   "source": [
    "# Python program to remove duplicates from an \n",
    "# unsorted linked list\n",
    "\n",
    "# Node class to represent each element in the linked list\n",
    "class Node:\n",
    "    def __init__(self, val):\n",
    "        self.data = val\n",
    "        self.next = None\n",
    "\n",
    "# Function to remove duplicates using nested loops\n",
    "def remove_duplicates(head):\n",
    "    curr1 = head\n",
    "\n",
    "    # Traverse each node in the list\n",
    "    while curr1:\n",
    "        curr2 = curr1\n",
    "\n",
    "        # Traverse the remaining nodes to find and \n",
    "        # remove duplicates\n",
    "        while curr2.next:\n",
    "            \n",
    "            # Check if the next node has the same \n",
    "            # data as the current node\n",
    "            if curr2.next.data == curr1.data:\n",
    "                \n",
    "                # Duplicate found, remove it\n",
    "                curr2.next = curr2.next.next\n",
    "            else:\n",
    "              \n",
    "                # If the next node has different data from \n",
    "                # the current node, move to the next node\n",
    "                curr2 = curr2.next\n",
    "        \n",
    "        # Move to the next node in the list\n",
    "        curr1 = curr1.next\n",
    "    \n",
    "    return head\n",
    "\n",
    "def print_list(head):\n",
    "    curr = head\n",
    "    while curr:\n",
    "        print(curr.data, end=\" \")\n",
    "        curr = curr.next\n",
    "    print()\n"
   ]
  },
  {
   "cell_type": "code",
   "execution_count": 8,
   "id": "9e6c4d30",
   "metadata": {},
   "outputs": [
    {
     "name": "stdout",
     "output_type": "stream",
     "text": [
      "1 2 3 4 \n"
     ]
    }
   ],
   "source": [
    "if __name__ == \"__main__\":\n",
    "    # Create a singly linked list:\n",
    "    # 1 -> 2 -> 3 -> 2 -> 4\n",
    "    head = Node(1)\n",
    "    head.next = Node(2)\n",
    "    head.next.next = Node(3)\n",
    "    head.next.next.next = Node(2)\n",
    "    head.next.next.next.next = Node(4)\n",
    "\n",
    "    head = remove_duplicates(head)\n",
    "    print_list(head)"
   ]
  },
  {
   "cell_type": "code",
   "execution_count": 9,
   "id": "77a5e815",
   "metadata": {},
   "outputs": [
    {
     "name": "stdout",
     "output_type": "stream",
     "text": [
      "12 11 21 41 43 \n"
     ]
    }
   ],
   "source": [
    "if __name__ == \"__main__\":\n",
    "    # Create a singly linked list:\n",
    "    # 12 -> 11 -> 12 -> 21 -> 41 -> 43 -> 21\n",
    "    head = Node(12)\n",
    "    head.next = Node(11)\n",
    "    head.next.next = Node(12)\n",
    "    head.next.next.next = Node(21)\n",
    "    head.next.next.next.next = Node(41)\n",
    "    head.next.next.next.next.next = Node(43)\n",
    "    head.next.next.next.next.next.next = Node(21)\n",
    "\n",
    "    head = remove_duplicates(head)\n",
    "    print_list(head)"
   ]
  },
  {
   "cell_type": "markdown",
   "id": "cded0012",
   "metadata": {},
   "source": [
    "## Complexity study"
   ]
  },
  {
   "cell_type": "markdown",
   "id": "1645781e",
   "metadata": {},
   "source": [
    "Time Complexity: O(n^2), Due to two nested loops\n",
    "\n",
    "Auxiliary Space: O(1)"
   ]
  },
  {
   "cell_type": "markdown",
   "id": "6c78ed09",
   "metadata": {},
   "source": [
    "## Code - Approach 2 (Use hashset)"
   ]
  },
  {
   "cell_type": "code",
   "execution_count": 5,
   "id": "284b6faa",
   "metadata": {},
   "outputs": [],
   "source": [
    "class Node:\n",
    "    def __init__(self, x):\n",
    "        self.data = x\n",
    "        self.next = None\n",
    "\n",
    "def remove_duplicates(head):\n",
    "    hash_set = set()\n",
    "    curr = head\n",
    "    prev = None\n",
    "\n",
    "    while curr is not None:\n",
    "      \n",
    "        # Check if the element is already in the hash table\n",
    "        if curr.data in hash_set:\n",
    "          \n",
    "            # Element is present, remove it\n",
    "            prev.next = curr.next\n",
    "            curr = curr.next\n",
    "        else:\n",
    "          \n",
    "            # Element is not present, add it to hash table\n",
    "            hash_set.add(curr.data)\n",
    "            prev = curr\n",
    "            curr = curr.next\n",
    "\n",
    "    return head\n",
    "\n",
    "def print_list(head):\n",
    "    curr = head\n",
    "    while curr is not None:\n",
    "        print(curr.data, end=\" \")\n",
    "        curr = curr.next\n",
    "    print()"
   ]
  },
  {
   "cell_type": "code",
   "execution_count": 10,
   "id": "58dc293e",
   "metadata": {},
   "outputs": [
    {
     "name": "stdout",
     "output_type": "stream",
     "text": [
      "12 11 21 41 43 \n"
     ]
    }
   ],
   "source": [
    "if __name__ == \"__main__\":\n",
    "  \n",
    "    # Create a singly linked list:\n",
    "    # 12 -> 11 -> 12 -> 21 -> 41 -> 43 -> 21\n",
    "    head = Node(12)\n",
    "    head.next = Node(11)\n",
    "    head.next.next = Node(12)\n",
    "    head.next.next.next = Node(21)\n",
    "    head.next.next.next.next = Node(41)\n",
    "    head.next.next.next.next.next = Node(43)\n",
    "    head.next.next.next.next.next.next = Node(21)\n",
    "\n",
    "    head = remove_duplicates(head)\n",
    "    print_list(head)"
   ]
  },
  {
   "cell_type": "markdown",
   "id": "d7b4f679",
   "metadata": {},
   "source": [
    "## Complexity - Approach 2"
   ]
  },
  {
   "cell_type": "markdown",
   "id": "d9843bdf",
   "metadata": {},
   "source": [
    "Time Complexity: O(n), where n are the number of nodes in the linked list.\n",
    "\n",
    "Auxiliary Space: O(n)"
   ]
  }
 ],
 "metadata": {
  "kernelspec": {
   "display_name": "base",
   "language": "python",
   "name": "python3"
  },
  "language_info": {
   "codemirror_mode": {
    "name": "ipython",
    "version": 3
   },
   "file_extension": ".py",
   "mimetype": "text/x-python",
   "name": "python",
   "nbconvert_exporter": "python",
   "pygments_lexer": "ipython3",
   "version": "3.12.7"
  }
 },
 "nbformat": 4,
 "nbformat_minor": 5
}
